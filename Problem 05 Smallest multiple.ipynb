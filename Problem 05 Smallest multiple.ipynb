{
 "cells": [
  {
   "cell_type": "markdown",
   "metadata": {},
   "source": [
    "2520 is the smallest number that can be divided by each of the numbers from 1 to 10 without any remainder.\n",
    "\n",
    "What is the smallest positive number that is evenly divisible by all of the numbers from 1 to 20?"
   ]
  },
  {
   "cell_type": "code",
   "execution_count": 43,
   "metadata": {
    "collapsed": true
   },
   "outputs": [],
   "source": [
    "import functools"
   ]
  },
  {
   "cell_type": "code",
   "execution_count": 71,
   "metadata": {
    "collapsed": false
   },
   "outputs": [],
   "source": [
    "def smallest_multiple(length, range_number):\n",
    "    largest_number = functools.reduce(lambda x, y: x*y, list(range(11, length)))\n",
    "    for number in range(2520, largest_number, 20):\n",
    "        print(number)\n",
    "        num_list = []\n",
    "        for num in range(11, range_number):\n",
    "            if number%num == 0:\n",
    "                num_list.append(num)\n",
    "            if len(num_list) == length:\n",
    "                return number"
   ]
  },
  {
   "cell_type": "code",
   "execution_count": 74,
   "metadata": {
    "collapsed": false
   },
   "outputs": [
    {
     "name": "stdout",
     "output_type": "stream",
     "text": [
      "1 11\n",
      "1 12\n",
      "2 12\n",
      "3 12\n",
      "4 12\n",
      "6 12\n",
      "1 13\n",
      "1 14\n",
      "2 14\n",
      "7 14\n",
      "1 15\n",
      "3 15\n",
      "5 15\n",
      "1 16\n",
      "2 16\n",
      "4 16\n",
      "8 16\n",
      "1 17\n",
      "1 18\n",
      "2 18\n",
      "3 18\n",
      "6 18\n",
      "9 18\n",
      "1 19\n",
      "1 20\n",
      "2 20\n",
      "4 20\n",
      "5 20\n",
      "10 20\n"
     ]
    }
   ],
   "source": [
    "for numbers in range(11, 21):\n",
    "    for num in range(1, 11):\n",
    "        if numbers%num == 0:\n",
    "            print(num, numbers)"
   ]
  }
 ],
 "metadata": {
  "kernelspec": {
   "display_name": "Python 3",
   "language": "python",
   "name": "python3"
  },
  "language_info": {
   "codemirror_mode": {
    "name": "ipython",
    "version": 3
   },
   "file_extension": ".py",
   "mimetype": "text/x-python",
   "name": "python",
   "nbconvert_exporter": "python",
   "pygments_lexer": "ipython3",
   "version": "3.5.0"
  }
 },
 "nbformat": 4,
 "nbformat_minor": 0
}
