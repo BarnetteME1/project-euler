{
 "cells": [
  {
   "cell_type": "markdown",
   "metadata": {},
   "source": [
    "2520 is the smallest number that can be divided by each of the numbers from 1 to 10 without any remainder.\n",
    "\n",
    "What is the smallest positive number that is evenly divisible by all of the numbers from 1 to 20?"
   ]
  },
  {
   "cell_type": "code",
   "execution_count": 1,
   "metadata": {
    "collapsed": true
   },
   "outputs": [],
   "source": [
    "from math import sqrt\n",
    "from functools import reduce"
   ]
  },
  {
   "cell_type": "code",
   "execution_count": 2,
   "metadata": {
    "collapsed": true
   },
   "outputs": [],
   "source": [
    "def prime_number(num):\n",
    "    root = int(sqrt(num))\n",
    "    if num == 1 or num == 0:\n",
    "        return False\n",
    "    for number in range(2, root+1):\n",
    "        if num % number == 0:\n",
    "            return False\n",
    "    return True"
   ]
  },
  {
   "cell_type": "code",
   "execution_count": 3,
   "metadata": {
    "collapsed": false
   },
   "outputs": [],
   "source": [
    "def smallest_number(range_number):\n",
    "    large_number = 1\n",
    "    range_multiplied = reduce(lambda x, y: x*y, range(1,range_number+1))\n",
    "    for number in range(1, range_number+1):\n",
    "        if prime_number(number) == True:\n",
    "            large_number = large_number * number\n",
    "    original_large = large_number\n",
    "    n=1\n",
    "    while original_large < (original_large * range_multiplied):\n",
    "        number_list = []\n",
    "        for number in range(1, range_number+1):\n",
    "            if large_number%number == 0:\n",
    "                number_list.append(number)\n",
    "            if len(number_list) == range_number:\n",
    "                return large_number\n",
    "        large_number = large_number * n\n",
    "        n+=1"
   ]
  },
  {
   "cell_type": "code",
   "execution_count": 4,
   "metadata": {
    "collapsed": false
   },
   "outputs": [
    {
     "data": {
      "text/plain": [
       "232792560"
      ]
     },
     "execution_count": 4,
     "metadata": {},
     "output_type": "execute_result"
    }
   ],
   "source": [
    "smallest_number(20)"
   ]
  }
 ],
 "metadata": {
  "kernelspec": {
   "display_name": "Python 3",
   "language": "python",
   "name": "python3"
  },
  "language_info": {
   "codemirror_mode": {
    "name": "ipython",
    "version": 3
   },
   "file_extension": ".py",
   "mimetype": "text/x-python",
   "name": "python",
   "nbconvert_exporter": "python",
   "pygments_lexer": "ipython3",
   "version": "3.5.0"
  }
 },
 "nbformat": 4,
 "nbformat_minor": 0
}
