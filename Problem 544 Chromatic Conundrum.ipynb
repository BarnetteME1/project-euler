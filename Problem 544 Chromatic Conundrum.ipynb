{
 "cells": [
  {
   "cell_type": "markdown",
   "metadata": {},
   "source": [
    "Let F(r, c, n) be the number of ways to color a rectangular grid with r rows and c columns using at most n colors such that no two adjacent cells share the same color. Cells that are diagonal to each other are not considered adjacent.\n",
    "\n",
    "For example, F(2, 2, 3) = 18, F(2, 2, 20) = 130340, and F(3, 4, 6) = 102923670.\n",
    "\n",
    "Let S(r, c, n) = ∑nk=1 ∑k=1n F(r, c, k).\n",
    "\n",
    "For example, S(4, 4, 15) mod 10^9+7 = 325951319.\n",
    "\n",
    "Find S(9, 10, 1112131415) mod 10^9+7."
   ]
  },
  {
   "cell_type": "code",
   "execution_count": null,
   "metadata": {
    "collapsed": true
   },
   "outputs": [],
   "source": []
  }
 ],
 "metadata": {
  "kernelspec": {
   "display_name": "Python 3",
   "language": "python",
   "name": "python3"
  },
  "language_info": {
   "codemirror_mode": {
    "name": "ipython",
    "version": 3
   },
   "file_extension": ".py",
   "mimetype": "text/x-python",
   "name": "python",
   "nbconvert_exporter": "python",
   "pygments_lexer": "ipython3",
   "version": "3.5.0"
  }
 },
 "nbformat": 4,
 "nbformat_minor": 0
}
